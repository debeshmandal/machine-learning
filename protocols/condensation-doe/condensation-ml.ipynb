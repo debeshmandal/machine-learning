{
 "cells": [
  {
   "cell_type": "markdown",
   "metadata": {},
   "source": [
    "# ML analysis of Free Energy of Condensation data\n",
    "\n",
    "This notebook contains analysis using randomly generated simulations which output the free energy of condensation.\n",
    "\n",
    "The input and output data is stored in a single table. First we need to separate the data into `X`, an array containing the input data, and `y`, a vector containing the corresponding results. This is done in the preprocessing script.\n",
    "\n",
    "The input parameters are as follows:\n",
    "\n",
    "| Parameter | Range | N |\n",
    "| :-: | :-: | :-:\n",
    "| $\\kappa$ | (2, 8) | 7 |\n",
    "| $\\lambda$ | (5, 25) | 21 |\n",
    "| $k_1$ | 0 \\| 1 \\| 5 \\| 10 \\| 100 | 5 |\n",
    "| $k_2$ | 0 \\| 1 \\| 5 \\| 10 \\| 100 | 5 |\n",
    "| $K$ | 5 \\| 10 \\| 20 \\| 50 | 4 |\n",
    "| $\\theta _0$ | 90 \\| 120 \\| 135 \\| 180 | 4 |\n",
    "| charge ratio | (0, 1, 0.1) | 10 |\n",
    "| charge max | (0, 4) | 5 |\n",
    "| charge position | 'core' \\| 'tail' | 2 |\n",
    "\n",
    "In total there are: $7 \\times 21 \\times 5 \\times 5 \\times 4 \\times 4 \\times 10 \\times 5 \\times 2 = 5.88\\times10^{6}$ different combinations of parameters. We aim to use 100 values which is significantly less than this to make a meaningful model to predict the value for the free energy of condensation."
   ]
  },
  {
   "cell_type": "code",
   "execution_count": 9,
   "metadata": {},
   "outputs": [
    {
     "name": "stdout",
     "output_type": "stream",
     "text": [
      "            K  charge_max  tail  charge_ratio        k1        k2       kap  \\\n",
      "398 -0.738818    1.250031     0     -0.713064 -0.429464 -0.618949 -0.055188   \n",
      "125 -0.738818    1.250031     1     -0.713064  2.180635 -0.710975  0.464228   \n",
      "328 -0.738818   -1.464969     0      0.930888 -0.566838  1.566676  0.464228   \n",
      "339  1.442697   -0.559969     0      1.259678 -0.292091 -0.503916 -1.094020   \n",
      "172 -1.011507   -1.464969     1     -1.041854 -0.429464  1.566676  0.464228   \n",
      "..        ...         ...   ...           ...       ...       ...       ...   \n",
      "183  1.442697   -0.559969     0     -0.713064 -0.539363 -0.618949 -0.055188   \n",
      "151 -0.738818   -0.559969     0     -1.041854 -0.566838 -0.503916 -1.094020   \n",
      "363 -1.011507    0.345031     1     -0.055483 -0.292091  1.566676 -0.574604   \n",
      "302 -1.011507   -0.559969     0     -0.055483 -0.539363  1.566676 -1.094020   \n",
      "190  1.442697    0.345031     1     -0.055483 -0.566838 -0.733982  0.464228   \n",
      "\n",
      "          lam    theta0  \n",
      "398 -0.559676  0.068926  \n",
      "125  0.162487  1.447446  \n",
      "328  1.426271 -0.390581  \n",
      "339  1.245730  1.447446  \n",
      "172 -0.198595 -0.390581  \n",
      "..        ...       ...  \n",
      "183  0.884649  1.447446  \n",
      "151 -0.559676 -1.309594  \n",
      "363 -0.740217  0.068926  \n",
      "302  1.245730 -1.309594  \n",
      "190 -0.559676 -0.390581  \n",
      "\n",
      "[320 rows x 9 columns] (train),             K  charge_max  tail  charge_ratio        k1        k2       kap  \\\n",
      "1   -0.704783   -1.273665     1      1.050758 -0.494384 -0.599004  1.042137   \n",
      "3   -0.704783   -0.410163     0     -0.966697 -0.595408 -0.573226 -0.040603   \n",
      "7   -0.704783   -0.410163     0      0.042030 -0.494384 -0.341229 -0.581972   \n",
      "15  -0.704783   -0.410163     0     -0.630455 -0.620664 -0.470116 -0.581972   \n",
      "22  -0.704783   -0.410163     1      1.387000 -0.620664  1.978742 -1.123342   \n",
      "..        ...         ...   ...           ...       ...       ...       ...   \n",
      "373  1.539302   -0.410163     0      1.723243 -0.368105 -0.599004  1.583506   \n",
      "386 -0.985294   -0.410163     0      1.050758 -0.595408 -0.341229 -0.581972   \n",
      "388  1.539302    1.316840     0      1.723243  1.904926  1.978742  1.583506   \n",
      "393 -0.143762    1.316840     0     -0.630455 -0.494384  1.978742  1.583506   \n",
      "396 -0.985294   -0.410163     1     -0.630455 -0.620664 -0.341229 -1.664712   \n",
      "\n",
      "          lam    theta0  \n",
      "1   -1.667253  1.356176  \n",
      "3   -1.000352 -0.482707  \n",
      "7    0.666901 -0.482707  \n",
      "15  -0.833627 -0.022986  \n",
      "22  -0.666901 -0.482707  \n",
      "..        ...       ...  \n",
      "373 -0.666901 -0.022986  \n",
      "386 -0.500176 -0.022986  \n",
      "388  0.000000  1.356176  \n",
      "393 -0.500176  1.356176  \n",
      "396  1.167077 -0.482707  \n",
      "\n",
      "[80 rows x 9 columns] (test)\n",
      "Model: \"sequential_3\"\n",
      "_________________________________________________________________\n",
      "Layer (type)                 Output Shape              Param #   \n",
      "=================================================================\n",
      "dense_9 (Dense)              (None, 64)                640       \n",
      "_________________________________________________________________\n",
      "dense_10 (Dense)             (None, 64)                4160      \n",
      "_________________________________________________________________\n",
      "dense_11 (Dense)             (None, 1)                 65        \n",
      "=================================================================\n",
      "Total params: 4,865\n",
      "Trainable params: 4,865\n",
      "Non-trainable params: 0\n",
      "_________________________________________________________________\n",
      "None\n"
     ]
    }
   ],
   "source": [
    "from preprocess import import_data\n",
    "from model import build_model\n",
    "import analysis\n",
    "\n",
    "# Note that the data is normalised by the distance from the mean divided by the standard deviation\n",
    "# So if x = 1.0, it means that x is +1std away from the mean for that category\n",
    "X_train, y_train, X_test, y_test = import_data('./results_large.csv')\n",
    "model, hist = analysis.fit(X_train, y_train, epochs=5000)\n",
    "\n"
   ]
  },
  {
   "cell_type": "code",
   "execution_count": 10,
   "metadata": {},
   "outputs": [
    {
     "data": {
      "image/png": "[encoded data removed]",
      "text/plain": [
       "<Figure size 432x288 with 1 Axes>"
      ]
     },
     "metadata": {
      "needs_background": "light"
     },
     "output_type": "display_data"
    }
   ],
   "source": [
    "# plot the mean-sq error in absolute units\n",
    "analysis.plot(hist, metric='mse')"
   ]
  },
  {
   "cell_type": "code",
   "execution_count": 11,
   "metadata": {},
   "outputs": [
    {
     "data": {
      "image/png": "[encoded data removed]",
      "text/plain": [
       "<Figure size 432x288 with 1 Axes>"
      ]
     },
     "metadata": {
      "needs_background": "light"
     },
     "output_type": "display_data"
    }
   ],
   "source": [
    "# plot the correlation between the predictions and the test data\n",
    "y_pred = analysis.predict(X_test, y_test, model, plot=True)"
   ]
  },
  {
   "cell_type": "markdown",
   "metadata": {},
   "source": [
    "## Conclusion\n",
    "\n",
    "The second graph shows some correlation between tested and predicted values. At the moment, the results are somewhat promising but not accurate enough to be meaningful. I think this reason is that the range of combinations is too high, or that there is not enough data. Soon I will have run ~5000 simulations rather than 100, and so hopefully the model will have more data to learn from."
   ]
  },
  {
   "cell_type": "code",
   "execution_count": 4,
   "metadata": {},
   "outputs": [
    {
     "data": {
      "text/plain": [
       "1      -732.855503\n",
       "3      -310.066887\n",
       "7      -830.083294\n",
       "15     -202.797051\n",
       "22     -514.141411\n",
       "          ...     \n",
       "373     -75.943668\n",
       "386     -29.709286\n",
       "388   -1814.582680\n",
       "393    -214.341593\n",
       "396    -714.501635\n",
       "Name: dg, Length: 80, dtype: float64"
      ]
     },
     "execution_count": 4,
     "metadata": {},
     "output_type": "execute_result"
    }
   ],
   "source": []
  },
  {
   "cell_type": "code",
   "execution_count": null,
   "metadata": {},
   "outputs": [],
   "source": []
  }
 ],
 "metadata": {
  "kernelspec": {
   "display_name": "Python 3",
   "language": "python",
   "name": "python3"
  },
  "language_info": {
   "codemirror_mode": {
    "name": "ipython",
    "version": 3
   },
   "file_extension": ".py",
   "mimetype": "text/x-python",
   "name": "python",
   "nbconvert_exporter": "python",
   "pygments_lexer": "ipython3",
   "version": "3.7.6"
  }
 },
 "nbformat": 4,
 "nbformat_minor": 4
}
