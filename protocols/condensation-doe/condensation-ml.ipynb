{
 "cells": [
  {
   "cell_type": "markdown",
   "metadata": {},
   "source": [
    "# ML analysis of Free Energy of Condensation data\n",
    "\n",
    "This notebook contains analysis using randomly generated simulations which output the free energy of condensation.\n",
    "\n",
    "The input and output data is stored in a single table. First we need to separate the data into `X`, an array containing the input data, and `y`, a vector containing the corresponding results. This is done in the preprocessing script.\n",
    "\n",
    "The input parameters are as follows:\n",
    "\n",
    "| Parameter | Range |\n",
    "| :-: | :-: |\n",
    "| $\\kappa$ | (2, 8) |\n",
    "| $\\lambda$ | (5, 26) |\n",
    "| $k_1$ | 0 \\| 1 \\| 5 \\| 10 \\| 100 |\n",
    "| $k_2$ | 0 \\| 1 \\| 5 \\| 10 \\| 100 |\n",
    "| $K$ | 5 \\| 10 \\| 20 \\| 50 |\n",
    "| $\\theta _0$ | 90 \\| 120 \\| 135 \\| 180 |\n",
    "| charge ratio | (0, 1, 0.1) |\n",
    "| charge max | (0, 4) |\n",
    "| charge position | 'core' \\| 'tail' |"
   ]
  },
  {
   "cell_type": "code",
   "execution_count": 4,
   "metadata": {},
   "outputs": [
    {
     "name": "stdout",
     "output_type": "stream",
     "text": [
      "9    -0.253176\n",
      "12    0.795065\n",
      "21    0.747387\n",
      "25    0.728299\n",
      "36    0.799926\n",
      "37   -2.083953\n",
      "39   -1.422543\n",
      "44    0.798185\n",
      "46    0.641597\n",
      "47    0.724027\n",
      "58    0.695659\n",
      "64    0.783119\n",
      "65    0.797788\n",
      "67    0.809287\n",
      "70    0.851516\n",
      "81   -0.777539\n",
      "83    0.606374\n",
      "87    0.785531\n",
      "88    0.785894\n",
      "96   -0.147083\n",
      "Name: dg, dtype: float64\n"
     ]
    }
   ],
   "source": [
    "from preprocess import import_data\n",
    "\n",
    "data = import_data('./results.csv')"
   ]
  },
  {
   "cell_type": "code",
   "execution_count": 15,
   "metadata": {},
   "outputs": [
    {
     "ename": "AttributeError",
     "evalue": "module 'preprocess' has no attribute 'import_data'",
     "output_type": "error",
     "traceback": [
      "\u001b[0;31m---------------------------------------------------------------------------\u001b[0m",
      "\u001b[0;31mAttributeError\u001b[0m                            Traceback (most recent call last)",
      "\u001b[0;32m<ipython-input-15-73fa77e6509c>\u001b[0m in \u001b[0;36m<module>\u001b[0;34m\u001b[0m\n\u001b[1;32m      1\u001b[0m \u001b[0;32mimport\u001b[0m \u001b[0mpreprocess\u001b[0m\u001b[0;34m\u001b[0m\u001b[0;34m\u001b[0m\u001b[0m\n\u001b[1;32m      2\u001b[0m \u001b[0;34m\u001b[0m\u001b[0m\n\u001b[0;32m----> 3\u001b[0;31m \u001b[0mdata\u001b[0m \u001b[0;34m=\u001b[0m \u001b[0mpreprocess\u001b[0m\u001b[0;34m.\u001b[0m\u001b[0mimport_data\u001b[0m\u001b[0;34m(\u001b[0m\u001b[0;34m'./results.csv'\u001b[0m\u001b[0;34m)\u001b[0m\u001b[0;34m\u001b[0m\u001b[0;34m\u001b[0m\u001b[0m\n\u001b[0m\u001b[1;32m      4\u001b[0m \u001b[0mprint\u001b[0m\u001b[0;34m(\u001b[0m\u001b[0mdata\u001b[0m\u001b[0;34m[\u001b[0m\u001b[0;36m0\u001b[0m\u001b[0;34m]\u001b[0m\u001b[0;34m)\u001b[0m\u001b[0;34m\u001b[0m\u001b[0;34m\u001b[0m\u001b[0m\n",
      "\u001b[0;31mAttributeError\u001b[0m: module 'preprocess' has no attribute 'import_data'"
     ]
    }
   ],
   "source": [
    "from model import bui"
   ]
  },
  {
   "cell_type": "code",
   "execution_count": 11,
   "metadata": {},
   "outputs": [],
   "source": [
    "import analysis"
   ]
  },
  {
   "cell_type": "code",
   "execution_count": null,
   "metadata": {},
   "outputs": [],
   "source": []
  }
 ],
 "metadata": {
  "kernelspec": {
   "display_name": "Python 3",
   "language": "python",
   "name": "python3"
  },
  "language_info": {
   "codemirror_mode": {
    "name": "ipython",
    "version": 3
   },
   "file_extension": ".py",
   "mimetype": "text/x-python",
   "name": "python",
   "nbconvert_exporter": "python",
   "pygments_lexer": "ipython3",
   "version": "3.7.6"
  }
 },
 "nbformat": 4,
 "nbformat_minor": 4
}
