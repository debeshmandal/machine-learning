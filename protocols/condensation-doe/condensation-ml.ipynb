{
 "cells": [
  {
   "cell_type": "markdown",
   "metadata": {},
   "source": [
    "# ML analysis of Free Energy of Condensation data\n",
    "\n",
    "This notebook contains analysis using randomly generated simulations which output the free energy of condensation.\n",
    "\n",
    "The input and output data is stored in a single table. First we need to separate the data into `X`, an array containing the input data, and `y`, a vector containing the corresponding results. This is done in the preprocessing script.\n",
    "\n",
    "The input parameters are as follows:\n",
    "\n",
    "| Parameter | Range |\n",
    "| :---: | :---: |\n",
    "| $\\kappa$ | (2, 8) |\n",
    "| $\\lambda$ | (5, 26) |\n",
    "| $k_1$ | 0 \\| 1 \\| 5 \\| 10 \\| 100 |\n",
    "| $k_2$ | 0 \\| 1 \\| 5 \\| 10 \\| 100 |\n",
    "| $K$ | 5 \\| 10 \\| 20 \\| 50 |\n",
    "| $\\theta _0$ | 90 \\| 120 \\| 135 \\| 180 |\n",
    "| charge ratio | (0, 1, 0.1) |\n",
    "| charge max | (0, 4) |\n",
    "| charge position | 'core' \\| 'tail' |"
   ]
  },
  {
   "cell_type": "code",
   "execution_count": 7,
   "metadata": {},
   "outputs": [
    {
     "ename": "ModuleNotFoundError",
     "evalue": "No module named 'preprocess'",
     "output_type": "error",
     "traceback": [
      "\u001b[0;31m---------------------------------------------------------------------------\u001b[0m",
      "\u001b[0;31mModuleNotFoundError\u001b[0m                       Traceback (most recent call last)",
      "\u001b[0;32m<ipython-input-7-21030a41d26d>\u001b[0m in \u001b[0;36m<module>\u001b[0;34m\u001b[0m\n\u001b[0;32m----> 1\u001b[0;31m \u001b[0;32mimport\u001b[0m \u001b[0mpreprocess\u001b[0m \u001b[0;32mas\u001b[0m \u001b[0m_preprocess\u001b[0m\u001b[0;34m\u001b[0m\u001b[0;34m\u001b[0m\u001b[0m\n\u001b[0m",
      "\u001b[0;31mModuleNotFoundError\u001b[0m: No module named 'preprocess'"
     ]
    }
   ],
   "source": [
    "import preprocess as _preprocess"
   ]
  },
  {
   "cell_type": "code",
   "execution_count": 6,
   "metadata": {},
   "outputs": [],
   "source": [
    "import model as _model"
   ]
  },
  {
   "cell_type": "code",
   "execution_count": 5,
   "metadata": {},
   "outputs": [],
   "source": [
    "import analysis as _analysis"
   ]
  },
  {
   "cell_type": "code",
   "execution_count": null,
   "metadata": {},
   "outputs": [],
   "source": []
  }
 ],
 "metadata": {
  "kernelspec": {
   "display_name": "Python 3",
   "language": "python",
   "name": "python3"
  },
  "language_info": {
   "codemirror_mode": {
    "name": "ipython",
    "version": 3
   },
   "file_extension": ".py",
   "mimetype": "text/x-python",
   "name": "python",
   "nbconvert_exporter": "python",
   "pygments_lexer": "ipython3",
   "version": "3.7.6"
  }
 },
 "nbformat": 4,
 "nbformat_minor": 4
}
